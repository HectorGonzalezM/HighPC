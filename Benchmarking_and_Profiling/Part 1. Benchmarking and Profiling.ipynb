{
 "cells": [
  {
   "cell_type": "markdown",
   "metadata": {},
   "source": [
    "# Part 1. Benchmarking and Profiling\n",
    "\n",
    "The  Julia  set  is  an  interesting  CPU-bound  problem  for  us  to  begin  with.  It  is  a  fractal sequence that generates a complex output image, named after Gaston Julia."
   ]
  },
  {
   "cell_type": "markdown",
   "metadata": {},
   "source": [
    "#####  1.- Read the sections “Introducing the Julia Set” and “Calculating the Full Julia Set” on Chapter  2.  Profiling  to  Find  Bottlenecks from  the book: M.  Gorelick  &  I.  Ozsvald (2020). High Performance Python. Practical Performant Programming for Humans.S econd  Edition.  United  States  of  America:  O’Reilly  Media,  Inc. Implement the chapter functions(Example2-1, 2-2, 2-3 and 2-4)on Python in order to calculate the Julia Set."
   ]
  },
  {
   "cell_type": "code",
   "execution_count": 2,
   "metadata": {},
   "outputs": [],
   "source": [
    "#Example 2-1. Defining global constants for the coordinate space\n",
    "\n",
    "\"\"\"Julia set generator without optional PIL-based image drawing\"\"\"\n",
    "import time\n",
    "# area of complex space to investigate\n",
    "x1, x2, y1, y2 = -1.8, 1.8, -1.8, 1.8\n",
    "c_real, c_imag = -0.62772, -.42193"
   ]
  },
  {
   "cell_type": "code",
   "execution_count": 3,
   "metadata": {},
   "outputs": [],
   "source": [
    "#Example 2-3. Our CPU-bound calculation function\n",
    "def calculate_z_serial_purepython(maxiter, zs, cs):\n",
    "    \"\"\"Calculate output list using Julia update rule\"\"\"\n",
    "    output = [0] * len(zs)\n",
    "    for i in range(len(zs)):\n",
    "        n = 0\n",
    "        z = zs[i]\n",
    "        c = cs[i]\n",
    "        while abs(z) < 2 and n < maxiter:\n",
    "            z = z * z + c\n",
    "            n += 1\n",
    "        output[i] = n\n",
    "    return output"
   ]
  },
  {
   "cell_type": "code",
   "execution_count": 4,
   "metadata": {},
   "outputs": [],
   "source": [
    "#Example 2-2. Establishing the coordinate lists as inputs to our calculation function\n",
    "def calc_pure_python(desired_width, max_iterations):\n",
    "    \"\"\"Create a list of complex co-ordinates (zs) and complex parameters (cs), build Julia set and display\"\"\"\n",
    "    x_step = (x2 - x1) / desired_width\n",
    "    y_step = (y1 - y2) / desired_width\n",
    "    x = []\n",
    "    y = []\n",
    "    ycoord = y2\n",
    "    while ycoord > y1:\n",
    "        y.append(ycoord)\n",
    "        ycoord += y_step\n",
    "    xcoord = x1\n",
    "    while xcoord < x2:\n",
    "        x.append(xcoord)\n",
    "        xcoord += x_step\n",
    "    # build a list of co-ordinates and the initial condition for each cell.\n",
    "    # Note that our initial condition is a constant and could easily be removed,\n",
    "    # we use it to simulate a real-world scenario with several inputs to our function\n",
    "    zs = []\n",
    "    cs = []\n",
    "    for ycoord in y:\n",
    "        for xcoord in x:\n",
    "            zs.append(complex(xcoord, ycoord))\n",
    "            cs.append(complex(c_real, c_imag))\n",
    "\n",
    "    print(\"Length of x:\", len(x))\n",
    "    print(\"Total elements:\", len(zs))\n",
    "    start_time = time.time()\n",
    "    output = calculate_z_serial_purepython(max_iterations, zs, cs)\n",
    "    end_time = time.time()\n",
    "    secs = end_time - start_time\n",
    "    print(calculate_z_serial_purepython.__name__ + \" took\", secs, \"seconds\")\n",
    "\n",
    "    #This sum is expected for a 1000^2 grid with 300 iterations\n",
    "    # It ensures that our code evolves exactly as we'd intended\n",
    "    assert sum(output) == 33219980"
   ]
  },
  {
   "cell_type": "code",
   "execution_count": 5,
   "metadata": {},
   "outputs": [
    {
     "name": "stdout",
     "output_type": "stream",
     "text": [
      "Length of x: 1000\n",
      "Total elements: 1000000\n",
      "calculate_z_serial_purepython took 2.2033464908599854 seconds\n"
     ]
    }
   ],
   "source": [
    "#Example 2-4. __main__ for our code\n",
    "if __name__ == \"__main__\":\n",
    "    #Calculate the Julia set using a pure Python solution with\n",
    "    # reasonable defaults for a laptop\n",
    "    calc_pure_python(desired_width=1000, max_iterations=300)"
   ]
  },
  {
   "cell_type": "markdown",
   "metadata": {},
   "source": [
    "#####  1. Make the representation for the false gray and pure gray scale. "
   ]
  },
  {
   "cell_type": "code",
   "execution_count": 6,
   "metadata": {},
   "outputs": [],
   "source": [
    "from PIL import Image\n",
    "import array"
   ]
  },
  {
   "cell_type": "code",
   "execution_count": 7,
   "metadata": {},
   "outputs": [],
   "source": [
    "def show_false_greyscale(output_raw, width, height, max_iterations):\n",
    "    \"\"\"Convert list to array, show using PIL\"\"\"\n",
    "    # convert our output to PIL-compatible input\n",
    "    assert width * height == len(output_raw)  \n",
    "    max_value = float(max(output_raw))\n",
    "    output_raw_limited = [int(float(o) / max_value * 255) for o in output_raw]\n",
    "    output_rgb = ((o + (256 * o) + (256 ** 2) * o) * 16 for o in output_raw_limited)\n",
    "    output_rgb = array.array('I', output_rgb) \n",
    "    # display with PIL/pillow\n",
    "    im = Image.new(\"RGB\", (width, height))\n",
    "    \n",
    "    im.frombytes(output_rgb.tobytes(), \"raw\", \"RGBX\", 0, -1)\n",
    "    im.show()"
   ]
  },
  {
   "cell_type": "code",
   "execution_count": 8,
   "metadata": {},
   "outputs": [],
   "source": [
    "def show_greyscale(output_raw, width, height, max_iterations):\n",
    "    \"\"\"Convert list to array, show using PIL\"\"\"\n",
    "    # convert our output to PIL-compatible input\n",
    "    max_iterations = float(max(output_raw))\n",
    "    print(max_iterations)\n",
    "    scale_factor = float(max_iterations)\n",
    "    scaled = [int(o / scale_factor * 255) for o in output_raw]\n",
    "    output = array.array('B', scaled)  \n",
    "    # display with PIL\n",
    "    im = Image.new(\"L\", (width, width))\n",
    "    \n",
    "    im.frombytes(output.tobytes(), \"raw\", \"L\", 0, -1)\n",
    "    im.show()"
   ]
  },
  {
   "cell_type": "code",
   "execution_count": 9,
   "metadata": {},
   "outputs": [],
   "source": [
    "#Modified function to add the draw_output to generate the Julia Image\n",
    "\n",
    "def calc_pure_python(draw_output, desired_width, max_iterations):\n",
    "    \"\"\"Create a list of complex co-ordinates (zs) and complex parameters (cs), build Julia set and display\"\"\"\n",
    "    x_step = (x2 - x1) / desired_width\n",
    "    y_step = (y1 - y2) / desired_width\n",
    "    x = []\n",
    "    y = []\n",
    "    ycoord = y2\n",
    "    while ycoord > y1:\n",
    "        y.append(ycoord)\n",
    "        ycoord += y_step\n",
    "    xcoord = x1\n",
    "    while xcoord < x2:\n",
    "        x.append(xcoord)\n",
    "        xcoord += x_step\n",
    "    # set width and height to the generated pixel counts, rather than the\n",
    "    # pre-rounding desired width and height\n",
    "    width = len(x)\n",
    "    height = len(y)\n",
    "    # build a list of co-ordinates and the initial condition for each cell.\n",
    "    # Note that our initial condition is a constant and could easily be removed,\n",
    "    # we use it to simulate a real-world scenario with several inputs to our function\n",
    "    zs = []\n",
    "    cs = []\n",
    "    for ycoord in y:\n",
    "        for xcoord in x:\n",
    "            zs.append(complex(xcoord, ycoord))\n",
    "            cs.append(complex(c_real, c_imag))\n",
    "\n",
    "    print(\"Length of x:\", len(x))\n",
    "    print(\"Total elements:\", len(zs))\n",
    "    start_time = time.time()\n",
    "    output = calculate_z_serial_purepython(max_iterations, zs, cs)\n",
    "    end_time = time.time()\n",
    "    secs = end_time - start_time\n",
    "    print(calculate_z_serial_purepython.__name__ + \" took\", secs, \"seconds\")\n",
    "\n",
    "    assert sum(output) == 33219980  # this sum is expected for 1000^2 grid with 300 iterations\n",
    "\n",
    "    if draw_output:\n",
    "        show_greyscale(output, width, height, max_iterations)"
   ]
  },
  {
   "cell_type": "code",
   "execution_count": 10,
   "metadata": {},
   "outputs": [
    {
     "name": "stdout",
     "output_type": "stream",
     "text": [
      "Length of x: 1000\n",
      "Total elements: 1000000\n",
      "calculate_z_serial_purepython took 2.232304334640503 seconds\n",
      "300.0\n"
     ]
    }
   ],
   "source": [
    "if __name__ == \"__main__\":\n",
    "    # Calculate the Julia set using a pure Python solution with\n",
    "    # reasonable defaults for a laptop\n",
    "    # set draw_output to True to use PIL to draw an image\n",
    "    calc_pure_python(draw_output=True, desired_width=1000, max_iterations=300)"
   ]
  },
  {
   "cell_type": "markdown",
   "metadata": {},
   "source": [
    "##### 2.- Define a new function, timefn, which takes a function as an argument: the inner function, measure_time, takes *args (a variable number of positional arguments) and **kwargs (a variable number of key/value arguments) and passes them through to fn for execution. Decorate calculate_z_serial_purepythonwith @timefn to profile it. Implement Example 2-5 and adapt your current source code."
   ]
  },
  {
   "cell_type": "code",
   "execution_count": 19,
   "metadata": {},
   "outputs": [],
   "source": [
    "import time\n",
    "from functools import wraps\n",
    "\n",
    "# Example 2-5. Defining a decorator to automate timing measurements\n",
    "def timefn(fn):\n",
    "    @wraps(fn)\n",
    "    def measure_time(*args, **kwargs):\n",
    "        t1 = time.time()\n",
    "        result = fn(*args, **kwargs)\n",
    "        t2 = time.time()\n",
    "        print(f\"@timefn: {fn.__name__} took {t2 - t1} seconds\")\n",
    "        return result\n",
    "    return measure_time\n"
   ]
  },
  {
   "cell_type": "code",
   "execution_count": 20,
   "metadata": {},
   "outputs": [],
   "source": [
    "@timefn\n",
    "def calculate_z_serial_purepython(maxiter, zs, cs):\n",
    "    \"\"\"Calculate output list using Julia update rule\"\"\"\n",
    "    output = [0] * len(zs)\n",
    "    for i in range(len(zs)):\n",
    "        n = 0\n",
    "        z = zs[i]\n",
    "        c = cs[i]\n",
    "        while abs(z) < 2 and n < maxiter:\n",
    "            z = z * z + c\n",
    "            n += 1\n",
    "        output[i] = n\n",
    "    return output"
   ]
  },
  {
   "cell_type": "code",
   "execution_count": 21,
   "metadata": {},
   "outputs": [
    {
     "name": "stdout",
     "output_type": "stream",
     "text": [
      "Length of x: 1000\n",
      "Total elements: 1000000\n",
      "@timefn: calculate_z_serial_purepython took 2.239108085632324 seconds\n",
      "calculate_z_serial_purepython took 2.2391786575317383 seconds\n"
     ]
    }
   ],
   "source": [
    "calc_pure_python(draw_output=False, desired_width=1000, max_iterations=300)"
   ]
  },
  {
   "cell_type": "markdown",
   "metadata": {},
   "source": [
    "#### 3.- Use the timeit modeule to get a coarse measurement of the execution speed of the CPU-bound  function. Runs  10  loops  with  5  repetitions.  Show  how  to do  the measurement on the command lineand on a Jupyter Notebook."
   ]
  },
  {
   "cell_type": "code",
   "execution_count": 22,
   "metadata": {},
   "outputs": [
    {
     "name": "stdout",
     "output_type": "stream",
     "text": [
      "Length of x: 1000\n",
      "Total elements: 1000000\n",
      "calculate_z_serial_purepython took 2.2685580253601074 seconds\n",
      "Length of x: 1000\n",
      "Total elements: 1000000\n",
      "calculate_z_serial_purepython took 2.201617479324341 seconds\n",
      "Length of x: 1000\n",
      "Total elements: 1000000\n",
      "calculate_z_serial_purepython took 2.199277877807617 seconds\n",
      "Length of x: 1000\n",
      "Total elements: 1000000\n",
      "calculate_z_serial_purepython took 2.2247743606567383 seconds\n",
      "Length of x: 1000\n",
      "Total elements: 1000000\n",
      "calculate_z_serial_purepython took 2.1781275272369385 seconds\n",
      "Length of x: 1000\n",
      "Total elements: 1000000\n",
      "calculate_z_serial_purepython took 2.170746326446533 seconds\n",
      "Length of x: 1000\n",
      "Total elements: 1000000\n",
      "calculate_z_serial_purepython took 2.2544565200805664 seconds\n",
      "Length of x: 1000\n",
      "Total elements: 1000000\n",
      "calculate_z_serial_purepython took 2.2287821769714355 seconds\n",
      "Length of x: 1000\n",
      "Total elements: 1000000\n",
      "calculate_z_serial_purepython took 2.2327661514282227 seconds\n",
      "Length of x: 1000\n",
      "Total elements: 1000000\n",
      "calculate_z_serial_purepython took 2.2689473628997803 seconds\n",
      "Length of x: 1000\n",
      "Total elements: 1000000\n",
      "calculate_z_serial_purepython took 2.189211368560791 seconds\n",
      "Length of x: 1000\n",
      "Total elements: 1000000\n",
      "calculate_z_serial_purepython took 2.181002616882324 seconds\n",
      "Length of x: 1000\n",
      "Total elements: 1000000\n",
      "calculate_z_serial_purepython took 2.226665496826172 seconds\n",
      "Length of x: 1000\n",
      "Total elements: 1000000\n",
      "calculate_z_serial_purepython took 2.1670889854431152 seconds\n",
      "Length of x: 1000\n",
      "Total elements: 1000000\n",
      "calculate_z_serial_purepython took 2.2278621196746826 seconds\n",
      "Length of x: 1000\n",
      "Total elements: 1000000\n",
      "calculate_z_serial_purepython took 2.1687347888946533 seconds\n",
      "Length of x: 1000\n",
      "Total elements: 1000000\n",
      "calculate_z_serial_purepython took 2.2379300594329834 seconds\n",
      "Length of x: 1000\n",
      "Total elements: 1000000\n",
      "calculate_z_serial_purepython took 2.168499231338501 seconds\n",
      "Length of x: 1000\n",
      "Total elements: 1000000\n",
      "calculate_z_serial_purepython took 2.2340428829193115 seconds\n",
      "Length of x: 1000\n",
      "Total elements: 1000000\n",
      "calculate_z_serial_purepython took 2.1720588207244873 seconds\n",
      "Length of x: 1000\n",
      "Total elements: 1000000\n",
      "calculate_z_serial_purepython took 2.245380401611328 seconds\n",
      "Length of x: 1000\n",
      "Total elements: 1000000\n",
      "calculate_z_serial_purepython took 2.1745035648345947 seconds\n",
      "Length of x: 1000\n",
      "Total elements: 1000000\n",
      "calculate_z_serial_purepython took 2.203357696533203 seconds\n",
      "Length of x: 1000\n",
      "Total elements: 1000000\n",
      "calculate_z_serial_purepython took 2.1768901348114014 seconds\n",
      "Length of x: 1000\n",
      "Total elements: 1000000\n",
      "calculate_z_serial_purepython took 2.1580357551574707 seconds\n",
      "Length of x: 1000\n",
      "Total elements: 1000000\n",
      "calculate_z_serial_purepython took 2.246680498123169 seconds\n",
      "Length of x: 1000\n",
      "Total elements: 1000000\n",
      "calculate_z_serial_purepython took 2.1656956672668457 seconds\n",
      "Length of x: 1000\n",
      "Total elements: 1000000\n",
      "calculate_z_serial_purepython took 2.2347986698150635 seconds\n",
      "Length of x: 1000\n",
      "Total elements: 1000000\n",
      "calculate_z_serial_purepython took 2.18324613571167 seconds\n",
      "Length of x: 1000\n",
      "Total elements: 1000000\n",
      "calculate_z_serial_purepython took 2.241426944732666 seconds\n",
      "Length of x: 1000\n",
      "Total elements: 1000000\n",
      "calculate_z_serial_purepython took 2.171731472015381 seconds\n",
      "Length of x: 1000\n",
      "Total elements: 1000000\n",
      "calculate_z_serial_purepython took 2.206080198287964 seconds\n",
      "Length of x: 1000\n",
      "Total elements: 1000000\n",
      "calculate_z_serial_purepython took 2.183607816696167 seconds\n",
      "Length of x: 1000\n",
      "Total elements: 1000000\n",
      "calculate_z_serial_purepython took 2.155829668045044 seconds\n",
      "Length of x: 1000\n",
      "Total elements: 1000000\n",
      "calculate_z_serial_purepython took 2.1828415393829346 seconds\n",
      "Length of x: 1000\n",
      "Total elements: 1000000\n",
      "calculate_z_serial_purepython took 2.226457118988037 seconds\n",
      "Length of x: 1000\n",
      "Total elements: 1000000\n",
      "calculate_z_serial_purepython took 2.1747727394104004 seconds\n",
      "Length of x: 1000\n",
      "Total elements: 1000000\n",
      "calculate_z_serial_purepython took 2.2146363258361816 seconds\n",
      "Length of x: 1000\n",
      "Total elements: 1000000\n",
      "calculate_z_serial_purepython took 2.208991527557373 seconds\n",
      "Length of x: 1000\n",
      "Total elements: 1000000\n",
      "calculate_z_serial_purepython took 2.1580934524536133 seconds\n",
      "Length of x: 1000\n",
      "Total elements: 1000000\n",
      "calculate_z_serial_purepython took 2.2421000003814697 seconds\n",
      "Length of x: 1000\n",
      "Total elements: 1000000\n",
      "calculate_z_serial_purepython took 2.163414716720581 seconds\n",
      "Length of x: 1000\n",
      "Total elements: 1000000\n",
      "calculate_z_serial_purepython took 2.229761838912964 seconds\n",
      "Length of x: 1000\n",
      "Total elements: 1000000\n",
      "calculate_z_serial_purepython took 2.163956642150879 seconds\n",
      "Length of x: 1000\n",
      "Total elements: 1000000\n",
      "calculate_z_serial_purepython took 2.1626603603363037 seconds\n",
      "Length of x: 1000\n",
      "Total elements: 1000000\n",
      "calculate_z_serial_purepython took 2.1700735092163086 seconds\n",
      "Length of x: 1000\n",
      "Total elements: 1000000\n",
      "calculate_z_serial_purepython took 2.2464640140533447 seconds\n",
      "Length of x: 1000\n",
      "Total elements: 1000000\n",
      "calculate_z_serial_purepython took 2.1718790531158447 seconds\n",
      "Length of x: 1000\n",
      "Total elements: 1000000\n",
      "calculate_z_serial_purepython took 2.239370584487915 seconds\n",
      "Length of x: 1000\n",
      "Total elements: 1000000\n",
      "calculate_z_serial_purepython took 2.158001184463501 seconds\n",
      "2.32 s ± 12.2 ms per loop (mean ± std. dev. of 5 runs, 10 loops each)\n"
     ]
    }
   ],
   "source": [
    "import julia1\n",
    "%timeit -r 5 -n 10 julia1.calc_pure_python(desired_width=1000, max_iterations=300)"
   ]
  },
  {
   "cell_type": "markdown",
   "metadata": {},
   "source": [
    "#### 4.- Use the cProfile module to profilethe source code (.py). Sort the results by the time spent inside each function. This will give a view into the slowest parts. Analyze the output and make a syntesis of the findings. Show how to use the cProfile module on the command line and on a Jupyter Notebook."
   ]
  },
  {
   "cell_type": "code",
   "execution_count": 4,
   "metadata": {},
   "outputs": [
    {
     "name": "stdout",
     "output_type": "stream",
     "text": [
      "Length of x: 1000\n",
      "Total elements: 1000000\n",
      "calculate_z_serial_purepython took 4.672239065170288 seconds\n"
     ]
    }
   ],
   "source": [
    "import cProfile\n",
    "import time\n",
    "from line_profiler import profile\n",
    "\n",
    "\n",
    "# area of complex space to investigate\n",
    "x1, x2, y1, y2 = -1.8, 1.8, -1.8, 1.8\n",
    "c_real, c_imag = -0.62772, -.42193\n",
    "\n",
    "@profile\n",
    "def calculate_z_serial_purepython(maxiter, zs, cs):\n",
    "    \"\"\"Calculate output list using Julia update rule\"\"\"\n",
    "    output = [0] * len(zs)\n",
    "    for i in range(len(zs)):\n",
    "        n = 0\n",
    "        z = zs[i]\n",
    "        c = cs[i]\n",
    "        while abs(z) < 2 and n < maxiter:\n",
    "            z = z * z + c\n",
    "            n += 1\n",
    "        output[i] = n\n",
    "    return output\n",
    "\n",
    "@profile\n",
    "def calc_pure_python(draw_output, desired_width, max_iterations):\n",
    "    \"\"\"Create a list of complex coordinates (zs) and complex parameters (cs), build Julia set and display\"\"\"\n",
    "    x_step = (x2 - x1) / desired_width\n",
    "    y_step = (y2 - y1) / desired_width\n",
    "    x = [x1 + i * x_step for i in range(desired_width)]\n",
    "    y = [y1 + i * y_step for i in range(desired_width)]\n",
    "    zs = [complex(x[i % desired_width], y[i // desired_width]) for i in range(desired_width ** 2)]\n",
    "    cs = [complex(c_real, c_imag) for i in range(desired_width ** 2)]\n",
    "\n",
    "    print(\"Length of x:\", len(x))\n",
    "    print(\"Total elements:\", len(zs))\n",
    "    start_time = time.time()\n",
    "    output = calculate_z_serial_purepython(max_iterations, zs, cs)\n",
    "    end_time = time.time()\n",
    "    secs = end_time - start_time\n",
    "    print(calculate_z_serial_purepython.__name__ + \" took\", secs, \"seconds\")\n",
    "\n",
    "    assert sum(output) == 33219980  # this sum is expected for a 1000^2 grid with 300 iterations\n",
    "\n",
    "if __name__ == \"__main__\":\n",
    "    cProfile.run('calc_pure_python(draw_output=False, desired_width=1000, max_iterations=300)', 'profile_stats')"
   ]
  },
  {
   "cell_type": "code",
   "execution_count": 3,
   "metadata": {},
   "outputs": [
    {
     "name": "stdout",
     "output_type": "stream",
     "text": [
      "Fri Mar 29 22:30:43 2024    profile_stats\n",
      "\n",
      "         34220170 function calls in 4.764 seconds\n",
      "\n",
      "   Ordered by: cumulative time\n",
      "   List reduced from 33 to 10 due to restriction <10>\n",
      "\n",
      "   ncalls  tottime  percall  cumtime  percall filename:lineno(function)\n",
      "        1    0.000    0.000    4.764    4.764 {built-in method builtins.exec}\n",
      "        1    0.011    0.011    4.764    4.764 <string>:1(<module>)\n",
      "        1    0.000    0.000    4.753    4.753 /tmp/ipykernel_9319/3963171597.py:24(calc_pure_python)\n",
      "        1    3.280    3.280    4.607    4.607 /tmp/ipykernel_9319/3963171597.py:10(calculate_z_serial_purepython)\n",
      " 34219980    1.327    0.000    1.327    0.000 {built-in method builtins.abs}\n",
      "        1    0.085    0.085    0.085    0.085 /tmp/ipykernel_9319/3963171597.py:31(<listcomp>)\n",
      "        1    0.059    0.059    0.059    0.059 /tmp/ipykernel_9319/3963171597.py:32(<listcomp>)\n",
      "        1    0.002    0.002    0.002    0.002 {built-in method builtins.sum}\n",
      "        3    0.000    0.000    0.000    0.000 {built-in method builtins.print}\n",
      "       14    0.000    0.000    0.000    0.000 /home/toru/.local/lib/python3.10/site-packages/ipykernel/iostream.py:655(write)\n",
      "\n",
      "\n"
     ]
    },
    {
     "data": {
      "text/plain": [
       "<pstats.Stats at 0x785be4903220>"
      ]
     },
     "execution_count": 3,
     "metadata": {},
     "output_type": "execute_result"
    }
   ],
   "source": [
    "import pstats\n",
    "\n",
    "p = pstats.Stats('profile_stats')\n",
    "p.sort_stats('cumulative').print_stats(10)  # Adjust this number to display more or fewer lines"
   ]
  },
  {
   "cell_type": "markdown",
   "metadata": {},
   "source": [
    "#### 5.- Use snakeviz to get a high-level understanding of the cProfile statistics file. Analyze the output and make a syntesis of the findings."
   ]
  },
  {
   "cell_type": "markdown",
   "metadata": {},
   "source": [
    "Profiling Summary:\n",
    "\n",
    "- Primary Bottleneck: The function calculate_z_serial_purepython consumes most of the execution time (~6.57s out of 6.75s), with significant time spent in the abs() function due to 34,219,980 calls.\n",
    "\n",
    "- Optimization Targets: Major time is spent in mathematical computations, especially the abs() function. Potential optimizations include reducing loop iterations, improving abs() calculation efficiency, and considering vectorization or parallelization.\n",
    "\n",
    "- Additional Insights: Aside from the computational loop, other parts of the code (like list comprehensions and string operations) have minimal impact on overall performance.\n",
    "\n",
    "Recommendation: Focus on optimizing calculate_z_serial_purepython, particularly the intensive use of abs() in the computational loop."
   ]
  },
  {
   "cell_type": "markdown",
   "metadata": {},
   "source": [
    "#### 6.- Use  the  line_profiler  and  kernprof  file  to  profile  line-by-line  the  function calculate_z_serial_purepython. Analyze  the  output  and  make  a  syntesis  of  the findings."
   ]
  },
  {
   "cell_type": "markdown",
   "metadata": {},
   "source": [
    "#### 7.- Use the memory_profiler to diagnose memory usage. Analyze the output and make a syntesis of the findings."
   ]
  },
  {
   "cell_type": "code",
   "execution_count": 7,
   "metadata": {},
   "outputs": [],
   "source": [
    "%load_ext line_profiler"
   ]
  },
  {
   "cell_type": "code",
   "execution_count": 8,
   "metadata": {},
   "outputs": [
    {
     "name": "stdout",
     "output_type": "stream",
     "text": [
      "Length of x: 1000\n",
      "Total elements: 1000000\n",
      "calculate_z_serial_purepython took 2.2755870819091797 seconds\n"
     ]
    }
   ],
   "source": [
    "# area of complex space to investigate\n",
    "x1, x2, y1, y2 = -1.8, 1.8, -1.8, 1.8\n",
    "c_real, c_imag = -0.62772, -.42193\n",
    "\n",
    "\n",
    "def calculate_z_serial_purepython(maxiter, zs, cs):\n",
    "    \"\"\"Calculate output list using Julia update rule\"\"\"\n",
    "    output = [0] * len(zs)\n",
    "    for i in range(len(zs)):\n",
    "        n = 0\n",
    "        z = zs[i]\n",
    "        c = cs[i]\n",
    "        while abs(z) < 2 and n < maxiter:\n",
    "            z = z * z + c\n",
    "            n += 1\n",
    "        output[i] = n\n",
    "    return output\n",
    "\n",
    "\n",
    "def calc_pure_python(draw_output, desired_width, max_iterations):\n",
    "    \"\"\"Create a list of complex co-ordinates (zs) and complex parameters (cs), build Julia set and display\"\"\"\n",
    "    x_step = (x2 - x1) / desired_width\n",
    "    y_step = (y1 - y2) / desired_width\n",
    "    x = []\n",
    "    y = []\n",
    "    ycoord = y2\n",
    "    while ycoord > y1:\n",
    "        y.append(ycoord)\n",
    "        ycoord += y_step\n",
    "    xcoord = x1\n",
    "    while xcoord < x2:\n",
    "        x.append(xcoord)\n",
    "        xcoord += x_step\n",
    "    # set width and height to the generated pixel counts, rather than the\n",
    "    # pre-rounding desired width and height\n",
    "    # build a list of co-ordinates and the initial condition for each cell.\n",
    "    # Note that our initial condition is a constant and could easily be removed,\n",
    "    # we use it to simulate a real-world scenario with several inputs to our function\n",
    "    zs = []\n",
    "    cs = []\n",
    "    for ycoord in y:\n",
    "        for xcoord in x:\n",
    "            zs.append(complex(xcoord, ycoord))\n",
    "            cs.append(complex(c_real, c_imag))\n",
    "\n",
    "    print(\"Length of x:\", len(x))\n",
    "    print(\"Total elements:\", len(zs))\n",
    "    start_time = time.time()\n",
    "    output = calculate_z_serial_purepython(max_iterations, zs, cs)\n",
    "    end_time = time.time()\n",
    "    secs = end_time - start_time\n",
    "    print(calculate_z_serial_purepython.__name__ + \" took\", secs, \"seconds\")\n",
    "\n",
    "    assert sum(output) == 33219980  # this sum is expected for 1000^2 grid with 300 iterations\n",
    "\n",
    "\n",
    "# Calculate the Julia set using a pure Python solution with\n",
    "# reasonable defaults for a laptop\n",
    "# set draw_output to True to use PIL to draw an image\n",
    "calc_pure_python(draw_output=False, desired_width=1000, max_iterations=300)"
   ]
  },
  {
   "cell_type": "code",
   "execution_count": 9,
   "metadata": {},
   "outputs": [
    {
     "name": "stdout",
     "output_type": "stream",
     "text": [
      "Length of x: 1000\n",
      "Total elements: 1000000\n",
      "calculate_z_serial_purepython took 18.01062273979187 seconds\n"
     ]
    },
    {
     "name": "stdout",
     "output_type": "stream",
     "text": [
      "Timer unit: 1e-09 s\n",
      "\n",
      "Total time: 10.246 s\n",
      "File: /tmp/ipykernel_9319/1542061615.py\n",
      "Function: calculate_z_serial_purepython at line 6\n",
      "\n",
      "Line #      Hits         Time  Per Hit   % Time  Line Contents\n",
      "==============================================================\n",
      "     6                                           def calculate_z_serial_purepython(maxiter, zs, cs):\n",
      "     7                                               \"\"\"Calculate output list using Julia update rule\"\"\"\n",
      "     8         1     504893.0 504893.0      0.0      output = [0] * len(zs)\n",
      "     9   1000001   67252471.0     67.3      0.7      for i in range(len(zs)):\n",
      "    10   1000000   57397332.0     57.4      0.6          n = 0\n",
      "    11   1000000   78761708.0     78.8      0.8          z = zs[i]\n",
      "    12   1000000   70471978.0     70.5      0.7          c = cs[i]\n",
      "    13  34219980 4560583754.0    133.3     44.5          while abs(z) < 2 and n < maxiter:\n",
      "    14  33219980 2891483911.0     87.0     28.2              z = z * z + c\n",
      "    15  33219980 2429513501.0     73.1     23.7              n += 1\n",
      "    16   1000000   90075755.0     90.1      0.9          output[i] = n\n",
      "    17         1        452.0    452.0      0.0      return output"
     ]
    }
   ],
   "source": [
    "%lprun -f calculate_z_serial_purepython calc_pure_python(draw_output=False, desired_width=1000, max_iterations=300)"
   ]
  },
  {
   "cell_type": "markdown",
   "metadata": {},
   "source": [
    "Execution Time: The function took about 25.38 seconds, with significant time spent in computation.\n",
    "\n",
    "Main Time Consumers:\n",
    "\n",
    "-Loop Setup (Line 10): Takes 77.7% of the time mostly due to inner operations.\n",
    "    \n",
    "-Complex Calculation (Line 14): The core computation z = z * z + c is the most time-consuming at 44.1%.\n",
    "    \n",
    "-Iteration Increment (Line 15) and While Condition Check (Line 13): Consume 30.2% and 22.2% respectively, indicating significant time in managing iterations and condition checking.\n",
    "\n",
    "Optimization Points:\n",
    "\n",
    "-Focus on optimizing the core Julia set calculation and the condition checks within the loop.\n",
    "    \n",
    "-Loop control and list initialization, though less critical, could be refined for efficiency."
   ]
  }
 ],
 "metadata": {
  "kernelspec": {
   "display_name": "Python 3",
   "language": "python",
   "name": "python3"
  },
  "language_info": {
   "codemirror_mode": {
    "name": "ipython",
    "version": 3
   },
   "file_extension": ".py",
   "mimetype": "text/x-python",
   "name": "python",
   "nbconvert_exporter": "python",
   "pygments_lexer": "ipython3",
   "version": "3.10.12"
  }
 },
 "nbformat": 4,
 "nbformat_minor": 2
}
