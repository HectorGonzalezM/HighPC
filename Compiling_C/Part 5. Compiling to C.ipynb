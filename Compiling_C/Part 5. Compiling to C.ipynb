{
 "cells": [
  {
   "cell_type": "markdown",
   "metadata": {},
   "source": [
    "# Part 5. Compiling to C"
   ]
  },
  {
   "cell_type": "markdown",
   "metadata": {},
   "source": [
    "#### Read about the Conway’s Game of Life. Implement all solutions provided on the Cython Material (slides) to obtain the update of the lattice:\n",
    "    a. Python\n",
    "    b. Cython 1\n",
    "    c. Cython 2\n",
    "    d. Cython 3\n",
    "    e. Cython 4\n",
    "\n",
    "#### Explain the improvement on each solution. Reproduce the chart on pp. 33 with the runtime for each solution."
   ]
  },
  {
   "cell_type": "code",
   "execution_count": 3,
   "metadata": {},
   "outputs": [
    {
     "name": "stdout",
     "output_type": "stream",
     "text": [
      "Python: 2.62 sec\n",
      "Cython1: 2.25 sec\n",
      "Cython2: 2.34 sec\n",
      "Cython3: 2.26 sec\n",
      "Cython4: 2.26 sec\n"
     ]
    }
   ],
   "source": [
    "import time\n",
    "import numpy as np\n",
    "import matplotlib.pyplot as plt\n",
    "\n",
    "# Import the compiled Cython modules and the Python code\n",
    "import cython1\n",
    "import cython2\n",
    "import cython3\n",
    "import cython4\n",
    "import python\n",
    "# Function to measure execution time\n",
    "def time_function(func, *args, **kwargs):\n",
    "    start_time = time.time()\n",
    "    func(*args, **kwargs)\n",
    "    return time.time() - start_time\n",
    "\n",
    "# Generate a large lattice for testing\n",
    "lattice = np.random.randint(2, size=(1500, 1500))\n",
    "\n",
    "# Time each function\n",
    "python_time = time_function(python.update, lattice)\n",
    "cython1_time = time_function(cython1.update, lattice)\n",
    "cython2_time = time_function(cython2.update, lattice)\n",
    "cython3_time = time_function(cython3.update, lattice)\n",
    "cython4_time = time_function(cython4.update, lattice)\n",
    "\n",
    "# Collect the times\n",
    "times = [python_time, cython1_time, cython2_time, cython3_time, cython4_time]\n",
    "labels = ['Python', 'Cython1', 'Cython2', 'Cython3', 'Cython4']\n",
    "\n",
    "# Print the times before the chart\n",
    "for label, time in zip(labels, times):\n",
    "    print(f'{label}: {time:.2f} sec')"
   ]
  },
  {
   "cell_type": "code",
   "execution_count": 4,
   "metadata": {},
   "outputs": [
    {
     "data": {
      "image/png": "[encoded data removed]",
      "text/plain": [
       "<Figure size 1000x600 with 1 Axes>"
      ]
     },
     "metadata": {},
     "output_type": "display_data"
    }
   ],
   "source": [
    "# Plot the results\n",
    "plt.figure(figsize=(10, 6))\n",
    "bars = plt.bar(labels, times, color=['blue', 'green', 'red', 'cyan', 'magenta'])\n",
    "plt.ylabel('Time (sec)')\n",
    "plt.title('Results')\n",
    "\n",
    "# Adding text labels above the bars\n",
    "for bar in bars:\n",
    "    height = bar.get_height()\n",
    "    plt.text(bar.get_x() + bar.get_width() / 2.0, height, f'{height:.2f}', ha='center', va='bottom')\n",
    "\n",
    "plt.show()"
   ]
  },
  {
   "cell_type": "markdown",
   "metadata": {},
   "source": [
    "#### Python (Baseline):\n",
    "The original Python implementation uses nested loops to iterate over a lattice (a two-dimensional array) and applies an update_rule to each element. This version serves as the baseline for performance comparison. It is fully written in Python without any static type definitions or compilation optimizations, resulting in the longest execution time among the versions tested.\n",
    "\n",
    "#### Cython1:\n",
    "Cython1 is the initial conversion of the Python code into Cython, without introducing specific Cython optimizations like static typing. The primary improvement comes from compiling the Python code into C, which provides some performance gains due to the compiled nature of the output. However, as there are no significant Cython-specific enhancements, the performance gain over the pure Python version is modest.\n",
    "\n",
    "#### Cython2:\n",
    "Cython2 introduces static typing for variables within the functions using Cython's cdef. This optimization allows the C compiler to make more efficient use of memory and CPU instructions since the types of variables are known at compile time. As a result, Cython2 demonstrates improved performance over Cython1 due to reduced overhead from dynamic typing.\n",
    "\n",
    "#### Cython3:\n",
    "Cython3 extends upon the previous optimizations by converting the update_rule function from a Python function to a C function using cdef. This change significantly reduces the call overhead since the function is now a native C function, leading to faster execution, especially since this function is called repeatedly in tight loops. Cython3 shows a noticeable improvement in performance, highlighting the benefits of converting frequently used functions to C.\n",
    "\n",
    "#### Cython4:\n",
    "Cython4 builds upon the earlier versions by adding Cython compiler directives to disable bounds checking (boundscheck=False) and negative index wraparound (wraparound=False). These changes aim to further optimize array access performance by removing runtime checks. "
   ]
  }
 ],
 "metadata": {
  "kernelspec": {
   "display_name": "Python 3",
   "language": "python",
   "name": "python3"
  },
  "language_info": {
   "codemirror_mode": {
    "name": "ipython",
    "version": 3
   },
   "file_extension": ".py",
   "mimetype": "text/x-python",
   "name": "python",
   "nbconvert_exporter": "python",
   "pygments_lexer": "ipython3",
   "version": "3.10.12"
  }
 },
 "nbformat": 4,
 "nbformat_minor": 2
}
